{
 "cells": [
  {
   "cell_type": "markdown",
   "metadata": {},
   "source": [
    "# Experiment with Pyspeckit\n",
    "Try to get a handle of it to see if would be usefull in my scripts.\n",
    "\n",
    "#### Only python 2.7 available"
   ]
  },
  {
   "cell_type": "code",
   "execution_count": 49,
   "metadata": {
    "collapsed": false
   },
   "outputs": [],
   "source": [
    "import numpy as np\n",
    "import pyspeckit\n",
    "from astropy.io import fits\n",
    "import matplotlib.pyplot as plt\n",
    "\n",
    "#% matplotlib.pyplot inlne"
   ]
  },
  {
   "cell_type": "code",
   "execution_count": 50,
   "metadata": {
    "collapsed": true
   },
   "outputs": [],
   "source": [
    "f_sum = \"./test_crires.nod.ms.norm.sum.fits\"\n",
    "f_wavecal = \"./test_crires.nod.ms.norm.sum.wavecal.fits\""
   ]
  },
  {
   "cell_type": "code",
   "execution_count": 51,
   "metadata": {
    "collapsed": false
   },
   "outputs": [
    {
     "name": "stdout",
     "output_type": "stream",
     "text": [
      "[ 0.83280522  0.8855229   0.92419726 ...,  1.01128316  1.00921535\n",
      "  1.02195954]\n",
      "[(2111.8757, 0.83280522, 1.0) (2111.8872, 0.8855229, 2.0)\n",
      " (2111.8989, 0.92419726, 3.0) ..., (2123.5632, 1.0112832, 1022.0)\n",
      " (2123.5745, 1.0092154, 1023.0) (2123.5859, 1.0219595, 1024.0)]\n"
     ]
    }
   ],
   "source": [
    "data = fits.getdata(f_sum)\n",
    "hdr = fits.getheader(f_sum)\n",
    "print(data)\n",
    "\n",
    "data_wavecal = fits.getdata(f_wavecal)\n",
    "hdr_wavecal = fits.getheader(f_wavecal)\n",
    "print(data_wavecal)\n",
    "#data_wavecal.columns\n",
    "\n",
    "\n",
    "wl = data_wavecal[\"Wavelength\"]\n",
    "flux = data_wavecal[\"Extracted_DRACS\"]\n"
   ]
  },
  {
   "cell_type": "code",
   "execution_count": 65,
   "metadata": {
    "collapsed": false
   },
   "outputs": [],
   "source": [
    "# Test on data\n",
    "xaxis = np.arange(len(data))\n",
    "test_spec = pyspeckit.Spectrum(data=data, xarr=xaxis, unit='')\n",
    "#                        xarrkwargs={'unit':'km/s'})\n",
    "#sp = pyspeckit.Spectrum(data=data, error=error, xarr=xaxis,\n",
    "#                        xarrkwargs={'unit':'km/s'},\n",
    "#                        unit='erg/s/cm^2/AA')\n",
    "\n",
    "test_spec.plotter()"
   ]
  },
  {
   "cell_type": "code",
   "execution_count": 67,
   "metadata": {
    "collapsed": false
   },
   "outputs": [
    {
     "data": {
      "text/plain": [
       "''"
      ]
     },
     "execution_count": 67,
     "metadata": {},
     "output_type": "execute_result"
    }
   ],
   "source": [
    "test_spec.data\n",
    "test_spec.unit"
   ]
  },
  {
   "cell_type": "code",
   "execution_count": 69,
   "metadata": {
    "collapsed": false
   },
   "outputs": [],
   "source": [
    "# Test on wavelength calibtred data\n",
    "test_spec2 = pyspeckit.Spectrum(data=flux, xarr=wl, xarrkwargs={'unit':'nm'}, unit='')\n",
    "test_spec2.unit\n",
    "\n",
    "test_spec.plotter()"
   ]
  },
  {
   "cell_type": "code",
   "execution_count": null,
   "metadata": {
    "collapsed": true
   },
   "outputs": [],
   "source": []
  }
 ],
 "metadata": {
  "anaconda-cloud": {},
  "kernelspec": {
   "display_name": "Python [conda root]",
   "language": "python",
   "name": "conda-root-py"
  },
  "language_info": {
   "codemirror_mode": {
    "name": "ipython",
    "version": 2
   },
   "file_extension": ".py",
   "mimetype": "text/x-python",
   "name": "python",
   "nbconvert_exporter": "python",
   "pygments_lexer": "ipython2",
   "version": "2.7.12"
  }
 },
 "nbformat": 4,
 "nbformat_minor": 1
}
