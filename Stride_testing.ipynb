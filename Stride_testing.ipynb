{
 "cells": [
  {
   "cell_type": "markdown",
   "metadata": {},
   "source": [
    "# Testing numpy Stride \n",
    "For snr calculation windowing"
   ]
  },
  {
   "cell_type": "code",
   "execution_count": 21,
   "metadata": {
    "collapsed": true
   },
   "outputs": [],
   "source": [
    "import numpy as np\n",
    "from astropy.io import fits\n",
    "import matplotlib.pyplot as plt\n",
    "from __future__ import division\n",
    "from numpy.lib import stride_tricks\n",
    "import pandas as pd\n",
    "import seaborn as sns\n",
    "%matplotlib inline\n"
   ]
  },
  {
   "cell_type": "code",
   "execution_count": 22,
   "metadata": {
    "collapsed": false
   },
   "outputs": [
    {
     "name": "stdout",
     "output_type": "stream",
     "text": [
      ">f4\n",
      "float64\n",
      "[ 0.98955095  0.98883367  0.98798239 ...,  1.00619888  1.00780976\n",
      "  1.00937068]\n"
     ]
    }
   ],
   "source": [
    "fname = \"Test_spectra.fits\"\n",
    "data = fits.getdata(fname)\n",
    "hdr = fits.getheader(fname)\n",
    "\n",
    "wl = data[\"Wavelength\"]\n",
    "I = data[\"Extracted_DRACS\"]\n",
    "#print(type(I))\n",
    "print(I.dtype)\n",
    "wl = np.array(wl, dtype=\"float64\")  # Turn >f4 into float64\n",
    "I = np.array(I, dtype=\"float64\")  # Turn >f4 into float64\n",
    "print(I.dtype)\n",
    "print(I)"
   ]
  },
  {
   "cell_type": "code",
   "execution_count": null,
   "metadata": {
    "collapsed": false
   },
   "outputs": [],
   "source": [
    "binsize = 100\n",
    "\n",
    "# Try using stride on np.array\n",
    "\n",
    "# striding\n",
    "nums = np.arange(len(I), dtype=\"int\")\n",
    "\n",
    "print(\"itemsize\", nums.itemsize, \"dtype\", nums.dtype)\n",
    "hop_length = 1\n",
    "#stride_tests with numbers\n",
    "frame_length = binsize\n",
    "num_frames = 1 + (len(nums)-frame_length)/hop_length\n",
    "row_stride = nums.itemsize * hop_length # *hopesize\n",
    "print(frame_length)\n",
    "print(num_frames)\n",
    "print(row_stride)\n",
    "\n",
    "col_stride = nums.itemsize\n",
    "\n",
    "nums_strided = stride_tricks.as_strided(nums, shape=(num_frames, frame_length), strides=(row_stride, col_stride))\n",
    "       \t\n",
    "print(\"nums\", nums)\n",
    "print(\"nums_strided =\", nums_strided)\n",
    "\n",
    "# row wise transform\n",
    "row_sum = np.sum(nums_strided, axis=1)\n",
    "#print(row_sum)\n",
    "snr = 1/np.std(nums_strided, axis=1)\n",
    "print(snr)"
   ]
  },
  {
   "cell_type": "code",
   "execution_count": null,
   "metadata": {
    "collapsed": false
   },
   "outputs": [],
   "source": [
    "# with I\n",
    "frame_length = binsize\n",
    "num_frames = 1 + (len(I)-frame_length)/hop_length\n",
    "row_stride = I.itemsize * hop_length # *hopesize\n",
    "print(frame_length)\n",
    "print(num_frames)\n",
    "print(row_stride)\n",
    "\n",
    "col_stride = I.itemsize\n",
    "I_strided = stride_tricks.as_strided(I, shape=(num_frames, frame_length), strides=(row_stride, col_stride))\n",
    "     \t\n",
    "#print(\"nums\", I)\n",
    "#print(\"nums_strided =\", I_strided)\n",
    "       \n",
    "snr = 1/np.std(I_strided, axis=1)\n",
    "print(snr)"
   ]
  },
  {
   "cell_type": "code",
   "execution_count": null,
   "metadata": {
    "collapsed": false
   },
   "outputs": [],
   "source": [
    "plt.plot(snr)\n",
    "plt.show()"
   ]
  },
  {
   "cell_type": "code",
   "execution_count": 23,
   "metadata": {
    "collapsed": false
   },
   "outputs": [],
   "source": [
    "\n",
    "def strided_snr(data, frame_length, hop_length=1):\n",
    "    num_frames = 1 + (len(data)-frame_length)/hop_length\n",
    "    row_stride = data.itemsize * hop_length # *hopesize\n",
    "    col_stride = data.itemsize\n",
    "    data_strided = stride_tricks.as_strided(data, shape=(num_frames, frame_length), strides=(row_stride, col_stride))\n",
    "    \n",
    "    print(\"length of data_strided\",len(data_strided))\n",
    "    snr = 1/np.std( data_strided, axis=1)\n",
    "    #print(\"frame_length\", frame_length)\n",
    "    #print(\"num_frames\", num_frames)\n",
    "    #print(\"len(snr)\",len(snr))\n",
    "    #print(snr)\n",
    "    \n",
    "    #zeropad to make uniform length of spectra\n",
    "    missing_size = len(data)-len(snr)\n",
    "    print(\"missing size\", missing_size)\n",
    "    before = missing_size//2\n",
    "    end = missing_size//2\n",
    "    if missing_size%2 is not 0:\n",
    "        print(\"missing size is not even\")\n",
    "    padded_snr = np.pad(snr, (before, end),\"constant\")\n",
    "    #print(\"padded length\",len(padded_snr))\n",
    "    #print(padded_snr)\n",
    "    return padded_snr\n",
    "\n",
    "def strided_sum(data, frame_length, hop_length=1):\n",
    "    num_frames = 1 + (len(data)-frame_length)/hop_length\n",
    "    row_stride = data.itemsize * hop_length # *hopesize\n",
    "    col_stride = data.itemsize\n",
    "    data_strided = stride_tricks.as_strided(data, shape=(num_frames, frame_length), strides=(row_stride, col_stride))\n",
    "    \n",
    "    print(\"length of data_strided\",len(data_strided))\n",
    "    print(\"binsize\", frame_length)\n",
    "    print(\"hop_length\", hop_length)\n",
    "    print(data_strided)\n",
    "    total = np.sum(data_strided, axis=1)\n",
    "    #print(\"frame_length\", frame_length)\n",
    "    #print(\"num_frames\", num_frames)\n",
    "    #print(\"len(snr)\",len(snr))\n",
    "    #print(snr)\n",
    "    \n",
    "    #zeropad to make uniform length of spectra\n",
    "    missing_size = len(data)-len(total)\n",
    "    pad_size = (len(data)-len(total) )//2\n",
    "    #print(\"missing size\", missing_size)\n",
    "    before = missing_size//2\n",
    "    end = missing_size//2\n",
    "    if missing_size%2 is not 0:\n",
    "        print(\"missing size is not even\")\n",
    "    padded_total = np.pad(total, (pad_size,pad_size),\"constant\")\n",
    "    #print(\"padded length\",len(padded_snr))\n",
    "    #print(padded_snr)\n",
    "    return padded_total\n",
    "\n",
    "\n",
    "# This doesn't seem to work that well with pandas not sure why\n",
    "#store_array = np.empty((1024,len(bins)),dtype=data.dtype)\n",
    "#for i, bin in enumerate(bins):\n",
    "#   store_array[:,i] = strided_snr(I, bin)\n",
    "\n"
   ]
  },
  {
   "cell_type": "code",
   "execution_count": 30,
   "metadata": {
    "collapsed": false
   },
   "outputs": [
    {
     "name": "stdout",
     "output_type": "stream",
     "text": [
      "length of data_strided 1022\n",
      "missing size 2\n",
      "length of data_strided 1020\n",
      "missing size 4\n",
      "length of data_strided 1018\n",
      "missing size 6\n",
      "length of data_strided 1016\n",
      "missing size 8\n",
      "length of data_strided 1014\n",
      "missing size 10\n",
      "length of data_strided 1012\n",
      "missing size 12\n",
      "length of data_strided 1010\n",
      "missing size 14\n",
      "length of data_strided 1008\n",
      "missing size 16\n",
      "length of data_strided 1006\n",
      "missing size 18\n",
      "length of data_strided 1004\n",
      "missing size 20\n",
      "length of data_strided 1002\n",
      "missing size 22\n",
      "length of data_strided 1000\n",
      "missing size 24\n",
      "length of data_strided 998\n",
      "missing size 26\n",
      "length of data_strided 996\n",
      "missing size 28\n",
      "length of data_strided 994\n",
      "missing size 30\n",
      "length of data_strided 992\n",
      "missing size 32\n",
      "length of data_strided 990\n",
      "missing size 34\n",
      "length of data_strided 988\n",
      "missing size 36\n",
      "length of data_strided 986\n",
      "missing size 38\n",
      "length of data_strided 984\n",
      "missing size 40\n",
      "length of data_strided 982\n",
      "missing size 42\n",
      "length of data_strided 980\n",
      "missing size 44\n",
      "length of data_strided 978\n",
      "missing size 46\n",
      "length of data_strided 976\n",
      "missing size 48\n",
      "done\n"
     ]
    }
   ],
   "source": [
    "# loop over the different bin sizes\n",
    "bins = np.arange(3,51,2)\n",
    "hopper = 1\n",
    "store_list = []\n",
    "for i, b in enumerate(bins):\n",
    "   store_list.append( strided_snr(I, b, hop_length=hopper))\n",
    "print(\"done\")"
   ]
  },
  {
   "cell_type": "code",
   "execution_count": 31,
   "metadata": {
    "collapsed": false
   },
   "outputs": [
    {
     "name": "stdout",
     "output_type": "stream",
     "text": [
      "[array([    0.        ,  1559.72523929,   663.35644465, ...,   635.85609204,\n",
      "         772.23888547,     0.        ]), array([   0.        ,    0.        ,  719.91783335, ...,  374.76976134,\n",
      "          0.        ,    0.        ]), array([ 0.,  0.,  0., ...,  0.,  0.,  0.]), array([ 0.,  0.,  0., ...,  0.,  0.,  0.]), array([ 0.,  0.,  0., ...,  0.,  0.,  0.]), array([ 0.,  0.,  0., ...,  0.,  0.,  0.]), array([ 0.,  0.,  0., ...,  0.,  0.,  0.]), array([ 0.,  0.,  0., ...,  0.,  0.,  0.]), array([ 0.,  0.,  0., ...,  0.,  0.,  0.]), array([ 0.,  0.,  0., ...,  0.,  0.,  0.]), array([ 0.,  0.,  0., ...,  0.,  0.,  0.]), array([ 0.,  0.,  0., ...,  0.,  0.,  0.]), array([ 0.,  0.,  0., ...,  0.,  0.,  0.]), array([ 0.,  0.,  0., ...,  0.,  0.,  0.]), array([ 0.,  0.,  0., ...,  0.,  0.,  0.]), array([ 0.,  0.,  0., ...,  0.,  0.,  0.]), array([ 0.,  0.,  0., ...,  0.,  0.,  0.]), array([ 0.,  0.,  0., ...,  0.,  0.,  0.]), array([ 0.,  0.,  0., ...,  0.,  0.,  0.]), array([ 0.,  0.,  0., ...,  0.,  0.,  0.]), array([ 0.,  0.,  0., ...,  0.,  0.,  0.]), array([ 0.,  0.,  0., ...,  0.,  0.,  0.]), array([ 0.,  0.,  0., ...,  0.,  0.,  0.]), array([ 0.,  0.,  0., ...,  0.,  0.,  0.])]\n"
     ]
    }
   ],
   "source": [
    "#print(store_array)\n",
    "print(store_list)"
   ]
  },
  {
   "cell_type": "code",
   "execution_count": 32,
   "metadata": {
    "collapsed": false
   },
   "outputs": [],
   "source": [
    "#turn into a pandas dataframe\n",
    "#dataframe = pd.DataFrame(data=store_array, columns=range(1024), index=bins)\n",
    "#dataframe = pd.DataFrame(store_array, index=bins, columns=list(range(1024)))\n",
    "#print(dataframe)\n",
    "                         \n",
    "#print(dataframe.dtypes)                    "
   ]
  },
  {
   "cell_type": "code",
   "execution_count": 33,
   "metadata": {
    "collapsed": false,
    "scrolled": true
   },
   "outputs": [
    {
     "name": "stdout",
     "output_type": "stream",
     "text": [
      "    2126.81      2126.82     2126.83     2126.84     2126.85     2126.86  \\\n",
      "3       0.0  1559.725239  663.356445  613.906925  455.205851  384.504694   \n",
      "5       0.0     0.000000  719.917833  353.536398  291.189999  251.713481   \n",
      "7       0.0     0.000000    0.000000  298.532229  212.782567  215.299127   \n",
      "9       0.0     0.000000    0.000000    0.000000  208.999605  201.477813   \n",
      "11      0.0     0.000000    0.000000    0.000000    0.000000  197.849990   \n",
      "13      0.0     0.000000    0.000000    0.000000    0.000000    0.000000   \n",
      "15      0.0     0.000000    0.000000    0.000000    0.000000    0.000000   \n",
      "17      0.0     0.000000    0.000000    0.000000    0.000000    0.000000   \n",
      "19      0.0     0.000000    0.000000    0.000000    0.000000    0.000000   \n",
      "21      0.0     0.000000    0.000000    0.000000    0.000000    0.000000   \n",
      "23      0.0     0.000000    0.000000    0.000000    0.000000    0.000000   \n",
      "25      0.0     0.000000    0.000000    0.000000    0.000000    0.000000   \n",
      "27      0.0     0.000000    0.000000    0.000000    0.000000    0.000000   \n",
      "29      0.0     0.000000    0.000000    0.000000    0.000000    0.000000   \n",
      "31      0.0     0.000000    0.000000    0.000000    0.000000    0.000000   \n",
      "33      0.0     0.000000    0.000000    0.000000    0.000000    0.000000   \n",
      "35      0.0     0.000000    0.000000    0.000000    0.000000    0.000000   \n",
      "37      0.0     0.000000    0.000000    0.000000    0.000000    0.000000   \n",
      "39      0.0     0.000000    0.000000    0.000000    0.000000    0.000000   \n",
      "41      0.0     0.000000    0.000000    0.000000    0.000000    0.000000   \n",
      "43      0.0     0.000000    0.000000    0.000000    0.000000    0.000000   \n",
      "45      0.0     0.000000    0.000000    0.000000    0.000000    0.000000   \n",
      "47      0.0     0.000000    0.000000    0.000000    0.000000    0.000000   \n",
      "49      0.0     0.000000    0.000000    0.000000    0.000000    0.000000   \n",
      "\n",
      "       2126.87     2126.89      2126.90      2126.91   ...        2138.01  \\\n",
      "3   396.122515  534.788767  1007.743691  2023.436754   ...     978.554684   \n",
      "5   279.807940  466.211604   657.674715   572.076274   ...     705.195350   \n",
      "7   254.580203  296.842577   382.830042   491.675262   ...     601.582613   \n",
      "9   213.618891  233.673164   276.042757   352.719955   ...     619.996497   \n",
      "11  184.973766  201.377381   225.934599   257.748069   ...     587.271794   \n",
      "13  182.953316  178.318421   191.043710   227.993966   ...     549.009290   \n",
      "15    0.000000  171.619052   177.759490   189.917678   ...     452.155644   \n",
      "17    0.000000    0.000000   168.544259   172.721298   ...     385.732621   \n",
      "19    0.000000    0.000000     0.000000   165.478859   ...     325.292341   \n",
      "21    0.000000    0.000000     0.000000     0.000000   ...       0.000000   \n",
      "23    0.000000    0.000000     0.000000     0.000000   ...       0.000000   \n",
      "25    0.000000    0.000000     0.000000     0.000000   ...       0.000000   \n",
      "27    0.000000    0.000000     0.000000     0.000000   ...       0.000000   \n",
      "29    0.000000    0.000000     0.000000     0.000000   ...       0.000000   \n",
      "31    0.000000    0.000000     0.000000     0.000000   ...       0.000000   \n",
      "33    0.000000    0.000000     0.000000     0.000000   ...       0.000000   \n",
      "35    0.000000    0.000000     0.000000     0.000000   ...       0.000000   \n",
      "37    0.000000    0.000000     0.000000     0.000000   ...       0.000000   \n",
      "39    0.000000    0.000000     0.000000     0.000000   ...       0.000000   \n",
      "41    0.000000    0.000000     0.000000     0.000000   ...       0.000000   \n",
      "43    0.000000    0.000000     0.000000     0.000000   ...       0.000000   \n",
      "45    0.000000    0.000000     0.000000     0.000000   ...       0.000000   \n",
      "47    0.000000    0.000000     0.000000     0.000000   ...       0.000000   \n",
      "49    0.000000    0.000000     0.000000     0.000000   ...       0.000000   \n",
      "\n",
      "       2138.02     2138.03     2138.04      2138.05     2138.06     2138.07  \\\n",
      "3   851.520148  743.865718  535.785180  1090.544347  904.181280  567.713043   \n",
      "5   757.268419  643.133995  572.739943   423.671943  449.084872  407.836885   \n",
      "7   695.854850  610.004179  452.425987   355.564231  288.196053  302.638403   \n",
      "9   595.865447  512.391805  371.437400   291.086439  256.706371    0.000000   \n",
      "11  531.280605  402.849017  317.811044   260.648644    0.000000    0.000000   \n",
      "13  429.888810  343.943048  280.364027     0.000000    0.000000    0.000000   \n",
      "15  366.588550  300.048694    0.000000     0.000000    0.000000    0.000000   \n",
      "17  317.362403    0.000000    0.000000     0.000000    0.000000    0.000000   \n",
      "19    0.000000    0.000000    0.000000     0.000000    0.000000    0.000000   \n",
      "21    0.000000    0.000000    0.000000     0.000000    0.000000    0.000000   \n",
      "23    0.000000    0.000000    0.000000     0.000000    0.000000    0.000000   \n",
      "25    0.000000    0.000000    0.000000     0.000000    0.000000    0.000000   \n",
      "27    0.000000    0.000000    0.000000     0.000000    0.000000    0.000000   \n",
      "29    0.000000    0.000000    0.000000     0.000000    0.000000    0.000000   \n",
      "31    0.000000    0.000000    0.000000     0.000000    0.000000    0.000000   \n",
      "33    0.000000    0.000000    0.000000     0.000000    0.000000    0.000000   \n",
      "35    0.000000    0.000000    0.000000     0.000000    0.000000    0.000000   \n",
      "37    0.000000    0.000000    0.000000     0.000000    0.000000    0.000000   \n",
      "39    0.000000    0.000000    0.000000     0.000000    0.000000    0.000000   \n",
      "41    0.000000    0.000000    0.000000     0.000000    0.000000    0.000000   \n",
      "43    0.000000    0.000000    0.000000     0.000000    0.000000    0.000000   \n",
      "45    0.000000    0.000000    0.000000     0.000000    0.000000    0.000000   \n",
      "47    0.000000    0.000000    0.000000     0.000000    0.000000    0.000000   \n",
      "49    0.000000    0.000000    0.000000     0.000000    0.000000    0.000000   \n",
      "\n",
      "       2138.08     2138.09  2138.10  \n",
      "3   635.856092  772.238885      0.0  \n",
      "5   374.769761    0.000000      0.0  \n",
      "7     0.000000    0.000000      0.0  \n",
      "9     0.000000    0.000000      0.0  \n",
      "11    0.000000    0.000000      0.0  \n",
      "13    0.000000    0.000000      0.0  \n",
      "15    0.000000    0.000000      0.0  \n",
      "17    0.000000    0.000000      0.0  \n",
      "19    0.000000    0.000000      0.0  \n",
      "21    0.000000    0.000000      0.0  \n",
      "23    0.000000    0.000000      0.0  \n",
      "25    0.000000    0.000000      0.0  \n",
      "27    0.000000    0.000000      0.0  \n",
      "29    0.000000    0.000000      0.0  \n",
      "31    0.000000    0.000000      0.0  \n",
      "33    0.000000    0.000000      0.0  \n",
      "35    0.000000    0.000000      0.0  \n",
      "37    0.000000    0.000000      0.0  \n",
      "39    0.000000    0.000000      0.0  \n",
      "41    0.000000    0.000000      0.0  \n",
      "43    0.000000    0.000000      0.0  \n",
      "45    0.000000    0.000000      0.0  \n",
      "47    0.000000    0.000000      0.0  \n",
      "49    0.000000    0.000000      0.0  \n",
      "\n",
      "[24 rows x 1024 columns]\n"
     ]
    }
   ],
   "source": [
    "df_list = pd.DataFrame(store_list, index=bins, columns=np.round(wl,2))\n",
    "print(df_list)\n"
   ]
  },
  {
   "cell_type": "code",
   "execution_count": 36,
   "metadata": {
    "collapsed": false
   },
   "outputs": [
    {
     "data": {
      "text/plain": [
       "[<matplotlib.text.Text at 0xa47ae10>, <matplotlib.text.Text at 0xa4cf358>]"
      ]
     },
     "execution_count": 36,
     "metadata": {},
     "output_type": "execute_result"
    },
    {
     "data": {
      "image/png": "[encoded data removed]",
      "text/plain": [
       "<matplotlib.figure.Figure at 0xa0998d0>"
      ]
     },
     "metadata": {},
     "output_type": "display_data"
    }
   ],
   "source": [
    "sns.set()\n",
    "cmap = sns.diverging_palette(220, 10, as_cmap=True)\n",
    "ax = sns.heatmap(store_list, cmap=cmap, xticklabels=200, vmax=300, vmin=10)\n",
    "#ax = sns.heatmap(df_list)\n",
    "#plt.xticks(np.arange(int(np.min(wl)), int(np.max(wl)+1), 1.0))\n",
    "ax.set(ylabel=\"Binsize\", xlabel=\"Wavelenght\")"
   ]
  },
  {
   "cell_type": "code",
   "execution_count": 37,
   "metadata": {
    "collapsed": false,
    "scrolled": false
   },
   "outputs": [
    {
     "data": {
      "text/plain": [
       "[<matplotlib.text.Text at 0xa24f828>, <matplotlib.text.Text at 0xa0062b0>]"
      ]
     },
     "execution_count": 37,
     "metadata": {},
     "output_type": "execute_result"
    },
    {
     "data": {
      "image/png": "[encoded data removed]",
      "text/plain": [
       "<matplotlib.figure.Figure at 0xa01a3c8>"
      ]
     },
     "metadata": {},
     "output_type": "display_data"
    }
   ],
   "source": [
    "# seaborn heatmap plot\n",
    "sns.set()\n",
    "cmap = sns.diverging_palette(220, 10, as_cmap=True)\n",
    "\n",
    "ax = sns.heatmap(df_list, xticklabels=200, vmax=300, vmin=10)\n",
    "#ax = sns.heatmap(df_list)\n",
    "#plt.xticks(np.arange(int(np.min(wl)), int(np.max(wl)+1), 1.0))\n",
    "ax.set(ylabel=\"Binsize\",\n",
    "       xlabel=\"Wavelenght\")"
   ]
  },
  {
   "cell_type": "code",
   "execution_count": 35,
   "metadata": {
    "collapsed": false
   },
   "outputs": [
    {
     "data": {
      "text/plain": [
       "0.562255859375"
      ]
     },
     "execution_count": 35,
     "metadata": {},
     "output_type": "execute_result"
    }
   ],
   "source": [
    "#ax = sns.heatmap(store_list)\n",
    "wl[50]-wl[0]\n"
   ]
  },
  {
   "cell_type": "code",
   "execution_count": null,
   "metadata": {
    "collapsed": true
   },
   "outputs": [],
   "source": []
  },
  {
   "cell_type": "markdown",
   "metadata": {},
   "source": [
    "# test on known data"
   ]
  },
  {
   "cell_type": "code",
   "execution_count": 17,
   "metadata": {
    "collapsed": false
   },
   "outputs": [
    {
     "name": "stdout",
     "output_type": "stream",
     "text": [
      "length of data_strided 20\n",
      "binsize 1\n",
      "hop_length 1\n",
      "[[ 0]\n",
      " [ 1]\n",
      " [ 2]\n",
      " [ 3]\n",
      " [ 4]\n",
      " [ 5]\n",
      " [ 6]\n",
      " [ 7]\n",
      " [ 8]\n",
      " [ 9]\n",
      " [10]\n",
      " [11]\n",
      " [12]\n",
      " [13]\n",
      " [14]\n",
      " [15]\n",
      " [16]\n",
      " [17]\n",
      " [18]\n",
      " [19]]\n",
      "length of data_strided 18\n",
      "binsize 3\n",
      "hop_length 1\n",
      "[[ 0  1  2]\n",
      " [ 1  2  3]\n",
      " [ 2  3  4]\n",
      " [ 3  4  5]\n",
      " [ 4  5  6]\n",
      " [ 5  6  7]\n",
      " [ 6  7  8]\n",
      " [ 7  8  9]\n",
      " [ 8  9 10]\n",
      " [ 9 10 11]\n",
      " [10 11 12]\n",
      " [11 12 13]\n",
      " [12 13 14]\n",
      " [13 14 15]\n",
      " [14 15 16]\n",
      " [15 16 17]\n",
      " [16 17 18]\n",
      " [17 18 19]]\n",
      "length of data_strided 16\n",
      "binsize 5\n",
      "hop_length 1\n",
      "[[ 0  1  2  3  4]\n",
      " [ 1  2  3  4  5]\n",
      " [ 2  3  4  5  6]\n",
      " [ 3  4  5  6  7]\n",
      " [ 4  5  6  7  8]\n",
      " [ 5  6  7  8  9]\n",
      " [ 6  7  8  9 10]\n",
      " [ 7  8  9 10 11]\n",
      " [ 8  9 10 11 12]\n",
      " [ 9 10 11 12 13]\n",
      " [10 11 12 13 14]\n",
      " [11 12 13 14 15]\n",
      " [12 13 14 15 16]\n",
      " [13 14 15 16 17]\n",
      " [14 15 16 17 18]\n",
      " [15 16 17 18 19]]\n"
     ]
    }
   ],
   "source": [
    "data = np.arange(20)\n",
    "\n",
    "binsizes = range(1,6,2)\n",
    "store = []\n",
    "#opt = np.get_printoptions()\n",
    "#np.set_printoptions(threshold='nan')\n",
    "  \n",
    "\n",
    "\n",
    "for b in binsizes:\n",
    "   store.append(strided_sum(data, b))\n",
    "\n",
    "#np.set_printoptions(**opt)\n"
   ]
  },
  {
   "cell_type": "code",
   "execution_count": 18,
   "metadata": {
    "collapsed": false
   },
   "outputs": [
    {
     "name": "stdout",
     "output_type": "stream",
     "text": [
      "   0   1   2   3   4   5   6   7   8   9   10  11  12  13  14  15  16  17  18  \\\n",
      "1   0   1   2   3   4   5   6   7   8   9  10  11  12  13  14  15  16  17  18   \n",
      "3   0   3   6   9  12  15  18  21  24  27  30  33  36  39  42  45  48  51  54   \n",
      "5   0   0  10  15  20  25  30  35  40  45  50  55  60  65  70  75  80  85   0   \n",
      "\n",
      "   19  \n",
      "1  19  \n",
      "3   0  \n",
      "5   0  \n"
     ]
    }
   ],
   "source": [
    "SNRrand = pd.DataFrame(store, index=binsizes)\n",
    "print(SNRrand)\n"
   ]
  },
  {
   "cell_type": "code",
   "execution_count": 19,
   "metadata": {
    "collapsed": false
   },
   "outputs": [
    {
     "data": {
      "text/plain": [
       "[<matplotlib.text.Text at 0xaad9908>, <matplotlib.text.Text at 0xa546748>]"
      ]
     },
     "execution_count": 19,
     "metadata": {},
     "output_type": "execute_result"
    },
    {
     "data": {
      "image/png": "[encoded data removed]",
      "text/plain": [
       "<matplotlib.figure.Figure at 0xa5be1d0>"
      ]
     },
     "metadata": {},
     "output_type": "display_data"
    }
   ],
   "source": [
    "sns.set()\n",
    "#cmap = sns.diverging_palette(220, 10, as_cmap=True)\n",
    "\n",
    "ax = sns.heatmap(SNRrand,  xticklabels=20)\n",
    "#ax = sns.heatmap(df_list)\n",
    "#plt.xticks(np.arange(int(np.min(wl)), int(np.max(wl)+1), 1.0))\n",
    "ax.set(ylabel=\"Binsize\",\n",
    "       xlabel=\"Wavelenght\")"
   ]
  },
  {
   "cell_type": "code",
   "execution_count": null,
   "metadata": {
    "collapsed": true
   },
   "outputs": [],
   "source": []
  },
  {
   "cell_type": "code",
   "execution_count": null,
   "metadata": {
    "collapsed": true
   },
   "outputs": [],
   "source": []
  }
 ],
 "metadata": {
  "kernelspec": {
   "display_name": "Python 3",
   "language": "python",
   "name": "python3"
  },
  "language_info": {
   "codemirror_mode": {
    "name": "ipython",
    "version": 3
   },
   "file_extension": ".py",
   "mimetype": "text/x-python",
   "name": "python",
   "nbconvert_exporter": "python",
   "pygments_lexer": "ipython3",
   "version": "3.4.4"
  }
 },
 "nbformat": 4,
 "nbformat_minor": 0
}
