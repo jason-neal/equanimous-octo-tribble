{
 "cells": [
  {
   "cell_type": "markdown",
   "metadata": {},
   "source": [
    "# Interactive spectra\n",
    "See how the metal content and logg affect the spectra."
   ]
  },
  {
   "cell_type": "code",
   "execution_count": 1,
   "metadata": {
    "collapsed": true
   },
   "outputs": [],
   "source": [
    "from __future__ import print_function\n",
    "from ipywidgets import interact, interactive, fixed, interact_manual\n",
    "import ipywidgets as widgets\n",
    "import os\n",
    "from astropy.io import fits"
   ]
  },
  {
   "cell_type": "code",
   "execution_count": 51,
   "metadata": {},
   "outputs": [
    {
     "data": {
      "application/vnd.jupyter.widget-view+json": {
       "model_id": "de0e7646394840f883dcf661e3b619a5",
       "version_major": 2,
       "version_minor": 0
      },
      "text/html": [
       "<p>Failed to display Jupyter Widget of type <code>interactive</code>.</p>\n",
       "<p>\n",
       "  If you're reading this message in Jupyter Notebook or JupyterLab, it may mean\n",
       "  that the widgets JavaScript is still loading. If this message persists, it\n",
       "  likely means that the widgets JavaScript library is either not installed or\n",
       "  not enabled. See the <a href=\"https://ipywidgets.readthedocs.io/en/stable/user_install.html\">Jupyter\n",
       "  Widgets Documentation</a> for setup instructions.\n",
       "</p>\n",
       "<p>\n",
       "  If you're reading this message in another notebook frontend (for example, a static\n",
       "  rendering on GitHub or <a href=\"https://nbviewer.jupyter.org/\">NBViewer</a>),\n",
       "  it may mean that your frontend doesn't currently support widgets.\n",
       "</p>\n"
      ],
      "text/plain": [
       "interactive(children=(IntSlider(value=5600, description='teff', max=7000, min=2300, step=100), FloatSlider(value=4.5, description='logg', max=5.5, min=3.0, step=0.5), FloatSlider(value=0.0, description='feh', max=1.0, min=-2.0, step=0.5), FloatSlider(value=22000.0, description='xmin', max=49000.0, min=9000.0, step=500.0), FloatSlider(value=1000.0, description='window', max=10000.0, min=10.0, step=10.0), Output()), _dom_classes=('widget-interact',))"
      ]
     },
     "metadata": {},
     "output_type": "display_data"
    }
   ],
   "source": [
    "def load(teff, logg, feh, xmin=21500, xmax=22000):\n",
    "    # Replace with path to model files\n",
    "    name = os.path.join(\"PHOENIX\", \"Z{0:+1.10}\".format(float(feh)),\n",
    "        \"lte{0:05d}-{1:1.02f}{2:+1.10}.PHOENIX-ACES-AGSS-COND-2011-HiRes.fits\".format(teff, float(logg), float(feh)))\n",
    "    \n",
    "    if feh == 0:\n",
    "        name = name.replace(\"Z+0.0\", \"Z-0.0\")\n",
    "        name = name.replace(\"+0.0.PHOENIX\", \"-0.0.PHOENIX\")\n",
    "    flux = fits.getdata(name)\n",
    "    wav = fits.getdata(os.path.join(\"PHOENIX\", \"WAVE_PHOENIX-ACES-AGSS-COND-2011.fits\"))\n",
    "    mask = (wav < xmax) * (wav > xmin)\n",
    "\n",
    "    return wav[mask], flux[mask]\n",
    "      \n",
    "    \n",
    "@interact(teff=widgets.IntSlider(min=2300, max=7000, step=100, value=5600),\n",
    "          logg=widgets.FloatSlider(min=3, max=5.5, step=0.5, value=4.5),\n",
    "          feh=widgets.FloatSlider(min=-2, max=1, step=0.5, value=0),\n",
    "          xmin=widgets.FloatSlider(min=9000, max=49000, step=500, value=22000),\n",
    "          window=widgets.FloatSlider(min=10, max=10000, step=10, value=1000))\n",
    "def plt_spectrum(teff, logg, feh, xmin=21500, window=1000):\n",
    "    wav, flux = load(teff, logg, feh, xmin, xmin+window)\n",
    "    plt.plot(wav, flux)\n",
    "    plt.ylabel(\"Flux\")\n",
    "    plt.xlabel(\"Wavelength (Angstrom)\")\n",
    "    plt.title(\"Phoenix-ACES Model Spectra\")\n",
    "    plt.show()\n",
    "                       \n",
    "                       "
   ]
  },
  {
   "cell_type": "code",
   "execution_count": null,
   "metadata": {
    "collapsed": true
   },
   "outputs": [],
   "source": []
  },
  {
   "cell_type": "code",
   "execution_count": null,
   "metadata": {
    "collapsed": true
   },
   "outputs": [],
   "source": []
  }
 ],
 "metadata": {
  "kernelspec": {
   "display_name": "Python 3",
   "language": "python",
   "name": "python3"
  },
  "language_info": {
   "codemirror_mode": {
    "name": "ipython",
    "version": 3
   },
   "file_extension": ".py",
   "mimetype": "text/x-python",
   "name": "python",
   "nbconvert_exporter": "python",
   "pygments_lexer": "ipython3",
   "version": "3.6.1"
  }
 },
 "nbformat": 4,
 "nbformat_minor": 2
}
